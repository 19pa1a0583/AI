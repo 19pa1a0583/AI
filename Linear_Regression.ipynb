{
  "nbformat": 4,
  "nbformat_minor": 0,
  "metadata": {
    "colab": {
      "name": "Linear_Regression.ipynb",
      "provenance": [],
      "collapsed_sections": [],
      "include_colab_link": true
    },
    "language_info": {
      "codemirror_mode": {
        "name": "ipython",
        "version": 2
      },
      "file_extension": ".py",
      "mimetype": "text/x-python",
      "name": "python",
      "nbconvert_exporter": "python",
      "pygments_lexer": "ipython2",
      "version": "2.7.15"
    },
    "kernelspec": {
      "display_name": "Python 2",
      "language": "python",
      "name": "python2"
    }
  },
  "cells": [
    {
      "cell_type": "markdown",
      "metadata": {
        "id": "view-in-github",
        "colab_type": "text"
      },
      "source": [
        "<a href=\"https://colab.research.google.com/github/19pa1a0583/AI/blob/master/Linear_Regression.ipynb\" target=\"_parent\"><img src=\"https://colab.research.google.com/assets/colab-badge.svg\" alt=\"Open In Colab\"/></a>"
      ]
    },
    {
      "cell_type": "markdown",
      "metadata": {
        "id": "q4GgQtw-N7uQ",
        "colab_type": "text"
      },
      "source": [
        "Linear Regression\n",
        "=========="
      ]
    },
    {
      "cell_type": "markdown",
      "metadata": {
        "id": "ttj-58KNN7uR",
        "colab_type": "text"
      },
      "source": [
        "This notebook is a demo on implementing Linear Regression using sk-learn. We will be using a housing datset to train our model and make the predicitions."
      ]
    },
    {
      "cell_type": "markdown",
      "metadata": {
        "id": "zg3l-UpDN7uR",
        "colab_type": "text"
      },
      "source": [
        "Regression deals with a subset of machine learning approaches, that are generally used for predicting a continous output. It can be thought of as directly searching for a set of parameters that maximize the performance of a particular prediction model.\n",
        "\n",
        "A simple line equation with slope $\\omega_1$ and intercept $\\omega_0$ is given by\n",
        "                               \n",
        "\\begin{equation*}\n",
        "\\ y = \\omega_1 x +\\omega_0 \\\n",
        "\\end{equation*}\n",
        "\n",
        "This equation represents the relation between two variables, namely $x$ and $y$. Our goal is to find the weight values (\\omega_1 and \\omega_0) that maximise the performance i.e  the weight values that allows us best predict $y$ for a given $x$"
      ]
    },
    {
      "cell_type": "markdown",
      "metadata": {
        "id": "fUHsP_SkmvXX",
        "colab_type": "text"
      },
      "source": [
        "#### Load the dataset"
      ]
    },
    {
      "cell_type": "code",
      "metadata": {
        "id": "SjGGhnsSN7uS",
        "colab_type": "code",
        "colab": {}
      },
      "source": [
        "import pandas as pd # pandas is used for loading data from different files like csv, excel sheets etc\n",
        "import numpy as np # numpy is used for dealing with arrays\n",
        "from sklearn.model_selection import train_test_split # sklearn is used for creating models\n",
        "from sklearn.linear_model import LinearRegression\n",
        "import matplotlib.pyplot as plt #matplotlib is used for visualising the data\n",
        "\n",
        "# %matplotlib inline # since we want all the figures to be displayed in the notebook itself we pass this parameter\n",
        "# %config InlineBackend.figure_format = 'retina' "
      ],
      "execution_count": 0,
      "outputs": []
    },
    {
      "cell_type": "code",
      "metadata": {
        "id": "4psA-Rm2Qod5",
        "colab_type": "code",
        "outputId": "d35dcb42-1d8a-483a-e26a-d75ff909f65a",
        "colab": {
          "base_uri": "https://localhost:8080/",
          "height": 328
        }
      },
      "source": [
        "!wget https://gist.github.com/tdchaitanya/d84c787328df169c50a06eb1669666c9/raw/7ffeddc80bec1c22e91bfed6e026620cf989eacf/housing_data.csv"
      ],
      "execution_count": 0,
      "outputs": [
        {
          "output_type": "stream",
          "text": [
            "--2020-03-04 10:36:48--  https://gist.github.com/tdchaitanya/d84c787328df169c50a06eb1669666c9/raw/7ffeddc80bec1c22e91bfed6e026620cf989eacf/housing_data.csv\n",
            "Resolving gist.github.com (gist.github.com)... 192.30.253.118\n",
            "Connecting to gist.github.com (gist.github.com)|192.30.253.118|:443... connected.\n",
            "HTTP request sent, awaiting response... 301 Moved Permanently\n",
            "Location: https://gist.githubusercontent.com/tdchaitanya/d84c787328df169c50a06eb1669666c9/raw/7ffeddc80bec1c22e91bfed6e026620cf989eacf/housing_data.csv [following]\n",
            "--2020-03-04 10:36:48--  https://gist.githubusercontent.com/tdchaitanya/d84c787328df169c50a06eb1669666c9/raw/7ffeddc80bec1c22e91bfed6e026620cf989eacf/housing_data.csv\n",
            "Resolving gist.githubusercontent.com (gist.githubusercontent.com)... 151.101.0.133, 151.101.64.133, 151.101.128.133, ...\n",
            "Connecting to gist.githubusercontent.com (gist.githubusercontent.com)|151.101.0.133|:443... connected.\n",
            "HTTP request sent, awaiting response... 200 OK\n",
            "Length: 2022817 (1.9M) [text/plain]\n",
            "Saving to: ‘housing_data.csv.1’\n",
            "\n",
            "\rhousing_data.csv.1    0%[                    ]       0  --.-KB/s               \rhousing_data.csv.1  100%[===================>]   1.93M  --.-KB/s    in 0.1s    \n",
            "\n",
            "2020-03-04 10:36:49 (12.9 MB/s) - ‘housing_data.csv.1’ saved [2022817/2022817]\n",
            "\n"
          ],
          "name": "stdout"
        }
      ]
    },
    {
      "cell_type": "code",
      "metadata": {
        "id": "qZdquOvZV6Rx",
        "colab_type": "code",
        "outputId": "795b1f99-7311-42a0-afab-aa0da53941bb",
        "colab": {
          "base_uri": "https://localhost:8080/",
          "height": 35
        }
      },
      "source": [
        "!ls"
      ],
      "execution_count": 0,
      "outputs": [
        {
          "output_type": "stream",
          "text": [
            "housing_data.csv  housing_data.csv.1  sample_data\n"
          ],
          "name": "stdout"
        }
      ]
    },
    {
      "cell_type": "code",
      "metadata": {
        "id": "qnDDgXxYN7uU",
        "colab_type": "code",
        "colab": {}
      },
      "source": [
        "# load the data from a csv file\n",
        "data = pd.read_csv('https://raw.githubusercontent.com/bhargav23/Dataset/master/Toyota.csv',na_values=[\"??\",\"????\"])"
      ],
      "execution_count": 0,
      "outputs": []
    },
    {
      "cell_type": "markdown",
      "metadata": {
        "id": "SjwHc4VZm7Sz",
        "colab_type": "text"
      },
      "source": [
        "#### Look at the data"
      ]
    },
    {
      "cell_type": "code",
      "metadata": {
        "id": "OvS8IQeD81BV",
        "colab_type": "code",
        "outputId": "3fed4b1f-6cb3-4db6-ae50-33c5dd0881b9",
        "colab": {
          "base_uri": "https://localhost:8080/",
          "height": 72
        }
      },
      "source": [
        "data.columns"
      ],
      "execution_count": 0,
      "outputs": [
        {
          "output_type": "execute_result",
          "data": {
            "text/plain": [
              "Index([u'Unnamed: 0', u'Price', u'Age', u'KM', u'FuelType', u'HP', u'MetColor',\n",
              "       u'Automatic', u'CC', u'Doors', u'Weight'],\n",
              "      dtype='object')"
            ]
          },
          "metadata": {
            "tags": []
          },
          "execution_count": 87
        }
      ]
    },
    {
      "cell_type": "code",
      "metadata": {
        "id": "-fTQWTrpmWEe",
        "colab_type": "code",
        "outputId": "567f3518-fd1f-48af-eb3e-3dbe4f6a41d9",
        "colab": {
          "base_uri": "https://localhost:8080/",
          "height": 308
        }
      },
      "source": [
        "data.info()"
      ],
      "execution_count": 0,
      "outputs": [
        {
          "output_type": "stream",
          "text": [
            "<class 'pandas.core.frame.DataFrame'>\n",
            "RangeIndex: 1436 entries, 0 to 1435\n",
            "Data columns (total 11 columns):\n",
            "Unnamed: 0    1436 non-null int64\n",
            "Price         1436 non-null int64\n",
            "Age           1336 non-null float64\n",
            "KM            1421 non-null float64\n",
            "FuelType      1336 non-null object\n",
            "HP            1430 non-null float64\n",
            "MetColor      1286 non-null float64\n",
            "Automatic     1436 non-null int64\n",
            "CC            1436 non-null int64\n",
            "Doors         1436 non-null object\n",
            "Weight        1436 non-null int64\n",
            "dtypes: float64(4), int64(5), object(2)\n",
            "memory usage: 123.5+ KB\n"
          ],
          "name": "stdout"
        }
      ]
    },
    {
      "cell_type": "code",
      "metadata": {
        "id": "078Vptg0meRV",
        "colab_type": "code",
        "colab": {}
      },
      "source": [
        "data.dropna(axis=0,inplace=True)"
      ],
      "execution_count": 0,
      "outputs": []
    },
    {
      "cell_type": "code",
      "metadata": {
        "id": "3VWatn2dnOh8",
        "colab_type": "code",
        "outputId": "d5e6c01a-8bf3-4bc8-c13c-b02a05e0094f",
        "colab": {
          "base_uri": "https://localhost:8080/",
          "height": 308
        }
      },
      "source": [
        "data.info()"
      ],
      "execution_count": 0,
      "outputs": [
        {
          "output_type": "stream",
          "text": [
            "<class 'pandas.core.frame.DataFrame'>\n",
            "Int64Index: 1096 entries, 0 to 1435\n",
            "Data columns (total 11 columns):\n",
            "Unnamed: 0    1096 non-null int64\n",
            "Price         1096 non-null int64\n",
            "Age           1096 non-null float64\n",
            "KM            1096 non-null float64\n",
            "FuelType      1096 non-null object\n",
            "HP            1096 non-null float64\n",
            "MetColor      1096 non-null float64\n",
            "Automatic     1096 non-null int64\n",
            "CC            1096 non-null int64\n",
            "Doors         1096 non-null object\n",
            "Weight        1096 non-null int64\n",
            "dtypes: float64(4), int64(5), object(2)\n",
            "memory usage: 102.8+ KB\n"
          ],
          "name": "stdout"
        }
      ]
    },
    {
      "cell_type": "code",
      "metadata": {
        "id": "eXfCFPmJN7uX",
        "colab_type": "code",
        "outputId": "0a06ed52-2429-45d1-f259-b2c2cd33817c",
        "colab": {
          "base_uri": "https://localhost:8080/",
          "height": 348
        }
      },
      "source": [
        "# head is used to display first n entries of the data frame\n",
        "data[[\"HP\",\"CC\",\"Price\"]].head(10)"
      ],
      "execution_count": 0,
      "outputs": [
        {
          "output_type": "execute_result",
          "data": {
            "text/html": [
              "<div>\n",
              "<style scoped>\n",
              "    .dataframe tbody tr th:only-of-type {\n",
              "        vertical-align: middle;\n",
              "    }\n",
              "\n",
              "    .dataframe tbody tr th {\n",
              "        vertical-align: top;\n",
              "    }\n",
              "\n",
              "    .dataframe thead th {\n",
              "        text-align: right;\n",
              "    }\n",
              "</style>\n",
              "<table border=\"1\" class=\"dataframe\">\n",
              "  <thead>\n",
              "    <tr style=\"text-align: right;\">\n",
              "      <th></th>\n",
              "      <th>HP</th>\n",
              "      <th>CC</th>\n",
              "      <th>Price</th>\n",
              "    </tr>\n",
              "  </thead>\n",
              "  <tbody>\n",
              "    <tr>\n",
              "      <th>0</th>\n",
              "      <td>90.0</td>\n",
              "      <td>2000</td>\n",
              "      <td>13500</td>\n",
              "    </tr>\n",
              "    <tr>\n",
              "      <th>1</th>\n",
              "      <td>90.0</td>\n",
              "      <td>2000</td>\n",
              "      <td>13750</td>\n",
              "    </tr>\n",
              "    <tr>\n",
              "      <th>3</th>\n",
              "      <td>90.0</td>\n",
              "      <td>2000</td>\n",
              "      <td>14950</td>\n",
              "    </tr>\n",
              "    <tr>\n",
              "      <th>4</th>\n",
              "      <td>90.0</td>\n",
              "      <td>2000</td>\n",
              "      <td>13750</td>\n",
              "    </tr>\n",
              "    <tr>\n",
              "      <th>5</th>\n",
              "      <td>90.0</td>\n",
              "      <td>2000</td>\n",
              "      <td>12950</td>\n",
              "    </tr>\n",
              "    <tr>\n",
              "      <th>8</th>\n",
              "      <td>192.0</td>\n",
              "      <td>1800</td>\n",
              "      <td>21500</td>\n",
              "    </tr>\n",
              "    <tr>\n",
              "      <th>10</th>\n",
              "      <td>192.0</td>\n",
              "      <td>1800</td>\n",
              "      <td>20950</td>\n",
              "    </tr>\n",
              "    <tr>\n",
              "      <th>11</th>\n",
              "      <td>192.0</td>\n",
              "      <td>1800</td>\n",
              "      <td>19950</td>\n",
              "    </tr>\n",
              "    <tr>\n",
              "      <th>12</th>\n",
              "      <td>192.0</td>\n",
              "      <td>1800</td>\n",
              "      <td>19600</td>\n",
              "    </tr>\n",
              "    <tr>\n",
              "      <th>13</th>\n",
              "      <td>192.0</td>\n",
              "      <td>1800</td>\n",
              "      <td>21500</td>\n",
              "    </tr>\n",
              "  </tbody>\n",
              "</table>\n",
              "</div>"
            ],
            "text/plain": [
              "       HP    CC  Price\n",
              "0    90.0  2000  13500\n",
              "1    90.0  2000  13750\n",
              "3    90.0  2000  14950\n",
              "4    90.0  2000  13750\n",
              "5    90.0  2000  12950\n",
              "8   192.0  1800  21500\n",
              "10  192.0  1800  20950\n",
              "11  192.0  1800  19950\n",
              "12  192.0  1800  19600\n",
              "13  192.0  1800  21500"
            ]
          },
          "metadata": {
            "tags": []
          },
          "execution_count": 91
        }
      ]
    },
    {
      "cell_type": "markdown",
      "metadata": {
        "id": "763qDonhN7ua",
        "colab_type": "text"
      },
      "source": [
        "#### Univariate Linear Regression"
      ]
    },
    {
      "cell_type": "code",
      "metadata": {
        "id": "7-Wd-TiAN7ua",
        "colab_type": "code",
        "colab": {}
      },
      "source": [
        "# sklearn expects arrays as input for building the model\n",
        "X = np.array(data['HP'])\n",
        "y = np.array(data['Price'])"
      ],
      "execution_count": 0,
      "outputs": []
    },
    {
      "cell_type": "code",
      "metadata": {
        "id": "JvEhrvLNN7uc",
        "colab_type": "code",
        "colab": {}
      },
      "source": [
        "# we a need a test set to measure the performance of our model. \n",
        "X_train,X_test,y_train,y_test = train_test_split(X, y, test_size = 0.2, random_state = 0)"
      ],
      "execution_count": 0,
      "outputs": []
    },
    {
      "cell_type": "code",
      "metadata": {
        "id": "n2B6QnunN7ue",
        "colab_type": "code",
        "outputId": "5f6a43ed-3f5a-4fd3-f906-e92bc67dd98e",
        "colab": {
          "base_uri": "https://localhost:8080/",
          "height": 305
        }
      },
      "source": [
        "plt.scatter(data['HP'],data['Price'])\n",
        "plt.xlabel('Age', fontsize=12)\n",
        "plt.ylabel('Price', fontsize=12)"
      ],
      "execution_count": 0,
      "outputs": [
        {
          "output_type": "execute_result",
          "data": {
            "text/plain": [
              "Text(0,0.5,'Price')"
            ]
          },
          "metadata": {
            "tags": []
          },
          "execution_count": 94
        },
        {
          "output_type": "display_data",
          "data": {
            "image/png": "[encoded data removed]",
            "text/plain": [
              "<Figure size 432x288 with 1 Axes>"
            ]
          },
          "metadata": {
            "tags": []
          }
        }
      ]
    },
    {
      "cell_type": "code",
      "metadata": {
        "id": "NBZA-evrN7uh",
        "colab_type": "code",
        "colab": {}
      },
      "source": [
        "# X_train is a 1-d array, since skleanr expects 2-d array as input, we are changing the dimension.\n",
        "X_train = X_train.reshape(-1,1)\n",
        "X_test = X_test.reshape(-1,1)"
      ],
      "execution_count": 0,
      "outputs": []
    },
    {
      "cell_type": "code",
      "metadata": {
        "id": "2MEO-ar-N7uj",
        "colab_type": "code",
        "outputId": "718851b0-1bc8-4682-82a2-9fdfe98b1347",
        "colab": {
          "base_uri": "https://localhost:8080/",
          "height": 54
        }
      },
      "source": [
        "regr = LinearRegression()\n",
        "regr.fit(X_train, y_train)"
      ],
      "execution_count": 0,
      "outputs": [
        {
          "output_type": "execute_result",
          "data": {
            "text/plain": [
              "LinearRegression(copy_X=True, fit_intercept=True, n_jobs=None,\n",
              "         normalize=False)"
            ]
          },
          "metadata": {
            "tags": []
          },
          "execution_count": 96
        }
      ]
    },
    {
      "cell_type": "code",
      "metadata": {
        "id": "QC0HbN_bN7um",
        "colab_type": "code",
        "outputId": "f4ef7ee2-a638-4bcc-912d-67706c754cc2",
        "colab": {
          "base_uri": "https://localhost:8080/",
          "height": 35
        }
      },
      "source": [
        "regr.coef_"
      ],
      "execution_count": 0,
      "outputs": [
        {
          "output_type": "execute_result",
          "data": {
            "text/plain": [
              "array([85.02207755])"
            ]
          },
          "metadata": {
            "tags": []
          },
          "execution_count": 97
        }
      ]
    },
    {
      "cell_type": "code",
      "metadata": {
        "id": "WjY1XRe5N7up",
        "colab_type": "code",
        "outputId": "4197c732-f158-4f38-e73f-a56a0896be69",
        "colab": {
          "base_uri": "https://localhost:8080/",
          "height": 35
        }
      },
      "source": [
        "regr.intercept_"
      ],
      "execution_count": 0,
      "outputs": [
        {
          "output_type": "execute_result",
          "data": {
            "text/plain": [
              "2187.666138065304"
            ]
          },
          "metadata": {
            "tags": []
          },
          "execution_count": 98
        }
      ]
    },
    {
      "cell_type": "code",
      "metadata": {
        "id": "NPH-mgyWN7us",
        "colab_type": "code",
        "outputId": "f0a5209b-2922-42b0-e575-2013a9ff41ee",
        "colab": {
          "base_uri": "https://localhost:8080/",
          "height": 35
        }
      },
      "source": [
        "# training error\n",
        "regr.score(X_train, y_train)"
      ],
      "execution_count": 0,
      "outputs": [
        {
          "output_type": "execute_result",
          "data": {
            "text/plain": [
              "0.12155839337691643"
            ]
          },
          "metadata": {
            "tags": []
          },
          "execution_count": 99
        }
      ]
    },
    {
      "cell_type": "code",
      "metadata": {
        "id": "XLEFjZZ2N7uw",
        "colab_type": "code",
        "outputId": "ce96e8cd-1b19-4a40-c4fb-2878b93f80db",
        "colab": {
          "base_uri": "https://localhost:8080/",
          "height": 35
        }
      },
      "source": [
        "# testing error\n",
        "regr.score(X_test, y_test)"
      ],
      "execution_count": 0,
      "outputs": [
        {
          "output_type": "execute_result",
          "data": {
            "text/plain": [
              "0.03556160788430551"
            ]
          },
          "metadata": {
            "tags": []
          },
          "execution_count": 100
        }
      ]
    },
    {
      "cell_type": "code",
      "metadata": {
        "id": "D0f1y946N7u0",
        "colab_type": "code",
        "outputId": "7f6df1f7-a16d-4c26-cc18-580d49a673c1",
        "colab": {
          "base_uri": "https://localhost:8080/",
          "height": 286
        }
      },
      "source": [
        "# Plot predictions on training data\n",
        "plt.scatter(X_train, y_train)\n",
        "plt.plot(X_train, regr.predict(X_train), color='red',\n",
        "         linewidth=3)\n",
        "\n",
        "plt.xlabel('Age', fontsize=12)\n",
        "plt.ylabel('Price', fontsize=12)\n",
        "\n",
        "plt.show()"
      ],
      "execution_count": 0,
      "outputs": [
        {
          "output_type": "display_data",
          "data": {
            "image/png": "[encoded data removed]",
            "text/plain": [
              "<Figure size 432x288 with 1 Axes>"
            ]
          },
          "metadata": {
            "tags": []
          }
        }
      ]
    },
    {
      "cell_type": "code",
      "metadata": {
        "id": "Qe9Lp2CoN7u2",
        "colab_type": "code",
        "outputId": "e170cbf9-833f-442e-f7be-904064443f5c",
        "colab": {
          "base_uri": "https://localhost:8080/",
          "height": 286
        }
      },
      "source": [
        "# Plot predictions on testing data\n",
        "plt.scatter(X_test, y_test)\n",
        "plt.plot(X_test, regr.predict(X_test), color='blue',\n",
        "         linewidth=3)\n",
        "\n",
        "plt.xlabel('Age', fontsize=12)\n",
        "plt.ylabel('Price', fontsize=12)\n",
        "\n",
        "plt.show()"
      ],
      "execution_count": 0,
      "outputs": [
        {
          "output_type": "display_data",
          "data": {
            "image/png": "[encoded data removed]",
            "text/plain": [
              "<Figure size 432x288 with 1 Axes>"
            ]
          },
          "metadata": {
            "tags": []
          }
        }
      ]
    },
    {
      "cell_type": "code",
      "metadata": {
        "id": "oz0RX_icAD3t",
        "colab_type": "code",
        "colab": {}
      },
      "source": [
        ""
      ],
      "execution_count": 0,
      "outputs": []
    },
    {
      "cell_type": "markdown",
      "metadata": {
        "id": "ndwh1yd_AFjd",
        "colab_type": "text"
      },
      "source": [
        "##### Exercise: Try implementing Univariate Linear Regression with other variables. "
      ]
    },
    {
      "cell_type": "code",
      "metadata": {
        "id": "_oUcq7IlAg1F",
        "colab_type": "code",
        "colab": {}
      },
      "source": [
        ""
      ],
      "execution_count": 0,
      "outputs": []
    },
    {
      "cell_type": "markdown",
      "metadata": {
        "id": "yKT1AKlGN7u6",
        "colab_type": "text"
      },
      "source": [
        "#### Multivariate Linear Regression"
      ]
    },
    {
      "cell_type": "code",
      "metadata": {
        "id": "nHVk9eluN7u7",
        "colab_type": "code",
        "outputId": "3707fd1c-062d-43dc-e049-abadf8a18bd0",
        "colab": {
          "base_uri": "https://localhost:8080/",
          "height": 35
        }
      },
      "source": [
        "len(data.columns)"
      ],
      "execution_count": 0,
      "outputs": [
        {
          "output_type": "execute_result",
          "data": {
            "text/plain": [
              "11"
            ]
          },
          "metadata": {
            "tags": []
          },
          "execution_count": 103
        }
      ]
    },
    {
      "cell_type": "code",
      "metadata": {
        "id": "RWtOBKGUN7u9",
        "colab_type": "code",
        "colab": {}
      },
      "source": [
        "X = np.array(data[['HP', 'CC']])\n",
        "y = np.array(data['Price'])"
      ],
      "execution_count": 0,
      "outputs": []
    },
    {
      "cell_type": "code",
      "metadata": {
        "id": "YXbIGqp8N7u-",
        "colab_type": "code",
        "colab": {}
      },
      "source": [
        "X_train,X_test,y_train,y_test = train_test_split(X, y, test_size = 0.3, random_state = 0)"
      ],
      "execution_count": 0,
      "outputs": []
    },
    {
      "cell_type": "code",
      "metadata": {
        "id": "I0KlWm0hN7vA",
        "colab_type": "code",
        "outputId": "655f2208-809e-4b6c-8414-2c3245d04458",
        "colab": {
          "base_uri": "https://localhost:8080/",
          "height": 52
        }
      },
      "source": [
        "regr = LinearRegression()\n",
        "regr.fit(X_train, y_train)"
      ],
      "execution_count": 0,
      "outputs": [
        {
          "output_type": "execute_result",
          "data": {
            "text/plain": [
              "LinearRegression(copy_X=True, fit_intercept=True, n_jobs=None,\n",
              "         normalize=False)"
            ]
          },
          "metadata": {
            "tags": []
          },
          "execution_count": 132
        }
      ]
    },
    {
      "cell_type": "code",
      "metadata": {
        "id": "kL_wp_iQN7vD",
        "colab_type": "code",
        "outputId": "d4702d5c-88ae-41ca-ede4-2ce919b183e0",
        "colab": {
          "base_uri": "https://localhost:8080/",
          "height": 35
        }
      },
      "source": [
        "regr.coef_"
      ],
      "execution_count": 0,
      "outputs": [
        {
          "output_type": "execute_result",
          "data": {
            "text/plain": [
              "array([81.5016134 ,  2.34538147])"
            ]
          },
          "metadata": {
            "tags": []
          },
          "execution_count": 107
        }
      ]
    },
    {
      "cell_type": "code",
      "metadata": {
        "id": "1e97U3MfN7vF",
        "colab_type": "code",
        "outputId": "0209cd36-5dd9-4752-e5d5-197e2be5e2cd",
        "colab": {
          "base_uri": "https://localhost:8080/",
          "height": 35
        }
      },
      "source": [
        "regr.intercept_"
      ],
      "execution_count": 0,
      "outputs": [
        {
          "output_type": "execute_result",
          "data": {
            "text/plain": [
              "-1063.3024287795324"
            ]
          },
          "metadata": {
            "tags": []
          },
          "execution_count": 108
        }
      ]
    },
    {
      "cell_type": "code",
      "metadata": {
        "id": "yEkBL00sN7vI",
        "colab_type": "code",
        "outputId": "9051eb4a-f0e3-4eee-f84b-990c057ab725",
        "colab": {
          "base_uri": "https://localhost:8080/",
          "height": 35
        }
      },
      "source": [
        "# training error\n",
        "regr.score(X_train, y_train)"
      ],
      "execution_count": 0,
      "outputs": [
        {
          "output_type": "execute_result",
          "data": {
            "text/plain": [
              "0.1226731281414224"
            ]
          },
          "metadata": {
            "tags": []
          },
          "execution_count": 109
        }
      ]
    },
    {
      "cell_type": "code",
      "metadata": {
        "id": "O_028-QBN7vK",
        "colab_type": "code",
        "outputId": "b0c5fc22-3f50-431c-e784-75525fe0c7b8",
        "colab": {
          "base_uri": "https://localhost:8080/",
          "height": 35
        }
      },
      "source": [
        "# testing error\n",
        "regr.score(X_test, y_test)"
      ],
      "execution_count": 0,
      "outputs": [
        {
          "output_type": "execute_result",
          "data": {
            "text/plain": [
              "0.08310917910926297"
            ]
          },
          "metadata": {
            "tags": []
          },
          "execution_count": 110
        }
      ]
    },
    {
      "cell_type": "code",
      "metadata": {
        "id": "r9Lh9lh_G6rn",
        "colab_type": "code",
        "outputId": "a69fdec8-5331-45f7-d00a-4bf7668c6630",
        "colab": {
          "base_uri": "https://localhost:8080/",
          "height": 35
        }
      },
      "source": [
        "regr.predict([[192,1800]])"
      ],
      "execution_count": 0,
      "outputs": [
        {
          "output_type": "execute_result",
          "data": {
            "text/plain": [
              "array([18806.69398345])"
            ]
          },
          "metadata": {
            "tags": []
          },
          "execution_count": 111
        }
      ]
    },
    {
      "cell_type": "code",
      "metadata": {
        "id": "gvkTfBvONjeK",
        "colab_type": "code",
        "outputId": "5872e65e-2d36-4657-d376-20ee4297f299",
        "colab": {
          "base_uri": "https://localhost:8080/",
          "height": 318
        }
      },
      "source": [
        "data.corr()"
      ],
      "execution_count": 0,
      "outputs": [
        {
          "output_type": "execute_result",
          "data": {
            "text/html": [
              "<div>\n",
              "<style scoped>\n",
              "    .dataframe tbody tr th:only-of-type {\n",
              "        vertical-align: middle;\n",
              "    }\n",
              "\n",
              "    .dataframe tbody tr th {\n",
              "        vertical-align: top;\n",
              "    }\n",
              "\n",
              "    .dataframe thead th {\n",
              "        text-align: right;\n",
              "    }\n",
              "</style>\n",
              "<table border=\"1\" class=\"dataframe\">\n",
              "  <thead>\n",
              "    <tr style=\"text-align: right;\">\n",
              "      <th></th>\n",
              "      <th>Unnamed: 0</th>\n",
              "      <th>Price</th>\n",
              "      <th>Age</th>\n",
              "      <th>KM</th>\n",
              "      <th>HP</th>\n",
              "      <th>MetColor</th>\n",
              "      <th>Automatic</th>\n",
              "      <th>CC</th>\n",
              "      <th>Weight</th>\n",
              "    </tr>\n",
              "  </thead>\n",
              "  <tbody>\n",
              "    <tr>\n",
              "      <th>Unnamed: 0</th>\n",
              "      <td>1.000000</td>\n",
              "      <td>-0.736823</td>\n",
              "      <td>0.905410</td>\n",
              "      <td>0.299948</td>\n",
              "      <td>-0.103647</td>\n",
              "      <td>-0.077610</td>\n",
              "      <td>0.055810</td>\n",
              "      <td>-0.143254</td>\n",
              "      <td>-0.396662</td>\n",
              "    </tr>\n",
              "    <tr>\n",
              "      <th>Price</th>\n",
              "      <td>-0.736823</td>\n",
              "      <td>1.000000</td>\n",
              "      <td>-0.877706</td>\n",
              "      <td>-0.601944</td>\n",
              "      <td>0.334261</td>\n",
              "      <td>0.117381</td>\n",
              "      <td>0.045111</td>\n",
              "      <td>0.099880</td>\n",
              "      <td>0.532614</td>\n",
              "    </tr>\n",
              "    <tr>\n",
              "      <th>Age</th>\n",
              "      <td>0.905410</td>\n",
              "      <td>-0.877706</td>\n",
              "      <td>1.000000</td>\n",
              "      <td>0.525695</td>\n",
              "      <td>-0.162063</td>\n",
              "      <td>-0.106291</td>\n",
              "      <td>0.026304</td>\n",
              "      <td>-0.084851</td>\n",
              "      <td>-0.442295</td>\n",
              "    </tr>\n",
              "    <tr>\n",
              "      <th>KM</th>\n",
              "      <td>0.299948</td>\n",
              "      <td>-0.601944</td>\n",
              "      <td>0.525695</td>\n",
              "      <td>1.000000</td>\n",
              "      <td>-0.368629</td>\n",
              "      <td>-0.109031</td>\n",
              "      <td>-0.054777</td>\n",
              "      <td>0.319733</td>\n",
              "      <td>-0.029703</td>\n",
              "    </tr>\n",
              "    <tr>\n",
              "      <th>HP</th>\n",
              "      <td>-0.103647</td>\n",
              "      <td>0.334261</td>\n",
              "      <td>-0.162063</td>\n",
              "      <td>-0.368629</td>\n",
              "      <td>1.000000</td>\n",
              "      <td>0.065218</td>\n",
              "      <td>0.023112</td>\n",
              "      <td>0.037291</td>\n",
              "      <td>0.084527</td>\n",
              "    </tr>\n",
              "    <tr>\n",
              "      <th>MetColor</th>\n",
              "      <td>-0.077610</td>\n",
              "      <td>0.117381</td>\n",
              "      <td>-0.106291</td>\n",
              "      <td>-0.109031</td>\n",
              "      <td>0.065218</td>\n",
              "      <td>1.000000</td>\n",
              "      <td>-0.000476</td>\n",
              "      <td>0.009902</td>\n",
              "      <td>0.055382</td>\n",
              "    </tr>\n",
              "    <tr>\n",
              "      <th>Automatic</th>\n",
              "      <td>0.055810</td>\n",
              "      <td>0.045111</td>\n",
              "      <td>0.026304</td>\n",
              "      <td>-0.054777</td>\n",
              "      <td>0.023112</td>\n",
              "      <td>-0.000476</td>\n",
              "      <td>1.000000</td>\n",
              "      <td>-0.053516</td>\n",
              "      <td>0.069788</td>\n",
              "    </tr>\n",
              "    <tr>\n",
              "      <th>CC</th>\n",
              "      <td>-0.143254</td>\n",
              "      <td>0.099880</td>\n",
              "      <td>-0.084851</td>\n",
              "      <td>0.319733</td>\n",
              "      <td>0.037291</td>\n",
              "      <td>0.009902</td>\n",
              "      <td>-0.053516</td>\n",
              "      <td>1.000000</td>\n",
              "      <td>0.623643</td>\n",
              "    </tr>\n",
              "    <tr>\n",
              "      <th>Weight</th>\n",
              "      <td>-0.396662</td>\n",
              "      <td>0.532614</td>\n",
              "      <td>-0.442295</td>\n",
              "      <td>-0.029703</td>\n",
              "      <td>0.084527</td>\n",
              "      <td>0.055382</td>\n",
              "      <td>0.069788</td>\n",
              "      <td>0.623643</td>\n",
              "      <td>1.000000</td>\n",
              "    </tr>\n",
              "  </tbody>\n",
              "</table>\n",
              "</div>"
            ],
            "text/plain": [
              "            Unnamed: 0     Price       Age  ...  Automatic        CC    Weight\n",
              "Unnamed: 0    1.000000 -0.736823  0.905410  ...   0.055810 -0.143254 -0.396662\n",
              "Price        -0.736823  1.000000 -0.877706  ...   0.045111  0.099880  0.532614\n",
              "Age           0.905410 -0.877706  1.000000  ...   0.026304 -0.084851 -0.442295\n",
              "KM            0.299948 -0.601944  0.525695  ...  -0.054777  0.319733 -0.029703\n",
              "HP           -0.103647  0.334261 -0.162063  ...   0.023112  0.037291  0.084527\n",
              "MetColor     -0.077610  0.117381 -0.106291  ...  -0.000476  0.009902  0.055382\n",
              "Automatic     0.055810  0.045111  0.026304  ...   1.000000 -0.053516  0.069788\n",
              "CC           -0.143254  0.099880 -0.084851  ...  -0.053516  1.000000  0.623643\n",
              "Weight       -0.396662  0.532614 -0.442295  ...   0.069788  0.623643  1.000000\n",
              "\n",
              "[9 rows x 9 columns]"
            ]
          },
          "metadata": {
            "tags": []
          },
          "execution_count": 112
        }
      ]
    },
    {
      "cell_type": "code",
      "metadata": {
        "id": "5CcLl9gYcRfs",
        "colab_type": "code",
        "outputId": "b485c3c2-3fbc-4a5c-96b6-fbaf28741140",
        "colab": {
          "base_uri": "https://localhost:8080/",
          "height": 35
        }
      },
      "source": [
        "x = np.array([0.0, 1.0, 2.0, 3.0,  4.0,  5.0])\n",
        "\n",
        "y = np.array([0.0, 0.8, 0.9, 0.1, -0.8, -1.0])\n",
        "\n",
        "z = np.polyfit(x, y,2)\n",
        "z"
      ],
      "execution_count": 0,
      "outputs": [
        {
          "output_type": "execute_result",
          "data": {
            "text/plain": [
              "array([-0.16071429,  0.50071429,  0.22142857])"
            ]
          },
          "metadata": {
            "tags": []
          },
          "execution_count": 113
        }
      ]
    },
    {
      "cell_type": "markdown",
      "metadata": {
        "id": "TN6CpWNs_8-u",
        "colab_type": "text"
      },
      "source": [
        "**It is convenient to use poly1d objects for dealing with polynomials:**"
      ]
    },
    {
      "cell_type": "code",
      "metadata": {
        "id": "Zz7KinoG3pLq",
        "colab_type": "code",
        "outputId": "fe7e8cc3-97f9-46e6-92d2-c7b405f54b0d",
        "colab": {
          "base_uri": "https://localhost:8080/",
          "height": 108
        }
      },
      "source": [
        "p = np.poly1d(z)\n",
        "print(p)\n",
        "print(p(0.5))\n",
        "\n",
        "print(p(3.5))\n",
        "\n",
        "print(p(10))\n"
      ],
      "execution_count": 0,
      "outputs": [
        {
          "output_type": "stream",
          "text": [
            "         2\n",
            "-0.1607 x + 0.5007 x + 0.2214\n",
            "0.43160714285714247\n",
            "0.005178571428570228\n",
            "-10.842857142857145\n"
          ],
          "name": "stdout"
        }
      ]
    },
    {
      "cell_type": "markdown",
      "metadata": {
        "id": "NDKrfqMh5gPH",
        "colab_type": "text"
      },
      "source": [
        "**High-order polynomials may oscillate wildly:**\n",
        "\n"
      ]
    },
    {
      "cell_type": "code",
      "metadata": {
        "id": "YyAdkNb24h3J",
        "colab_type": "code",
        "outputId": "88a6d088-a17a-4535-9368-ac67ccb1e7e4",
        "colab": {
          "base_uri": "https://localhost:8080/",
          "height": 108
        }
      },
      "source": [
        "p30 = np.poly1d(np.polyfit(x, y, 30))\n",
        "\n",
        "print(p30(4))\n",
        "\n",
        "print(p30(5))\n",
        "\n",
        "print(p30(4.5))"
      ],
      "execution_count": 0,
      "outputs": [
        {
          "output_type": "stream",
          "text": [
            "-0.7999999999999974\n",
            "-1.0000000000000089\n",
            "-0.11804856672740521\n"
          ],
          "name": "stdout"
        },
        {
          "output_type": "stream",
          "text": [
            "/usr/local/lib/python2.7/dist-packages/ipykernel_launcher.py:1: RankWarning: Polyfit may be poorly conditioned\n",
            "  \"\"\"Entry point for launching an IPython kernel.\n"
          ],
          "name": "stderr"
        }
      ]
    },
    {
      "cell_type": "code",
      "metadata": {
        "id": "xrsCJCH25wCZ",
        "colab_type": "code",
        "outputId": "a4c15718-1a33-4dcb-912a-31befec4a6fc",
        "colab": {
          "base_uri": "https://localhost:8080/",
          "height": 269
        }
      },
      "source": [
        "import matplotlib.pyplot as plt\n",
        "xp = np.linspace(-2, 6, 100)\n",
        "plt.plot(x, y,'.')\n",
        "plt.plot(xp, p(xp),'-')\n",
        "plt.plot(xp, p30(xp),'--')\n",
        "\n",
        "plt.ylim(-2,2)\n",
        "\n",
        "plt.show()"
      ],
      "execution_count": 0,
      "outputs": [
        {
          "output_type": "display_data",
          "data": {
            "image/png": "[encoded data removed]",
            "text/plain": [
              "<Figure size 432x288 with 1 Axes>"
            ]
          },
          "metadata": {
            "tags": []
          }
        }
      ]
    },
    {
      "cell_type": "code",
      "metadata": {
        "id": "6Zi05N7V6rqp",
        "colab_type": "code",
        "outputId": "2619fd3f-cd77-47b1-8d34-0028b7a7c544",
        "colab": {
          "base_uri": "https://localhost:8080/",
          "height": 54
        }
      },
      "source": [
        "p = np.poly1d([3, 4, 1])\n",
        "print(np.poly1d(p))"
      ],
      "execution_count": 0,
      "outputs": [
        {
          "output_type": "stream",
          "text": [
            "   2\n",
            "3 x + 4 x + 1\n"
          ],
          "name": "stdout"
        }
      ]
    },
    {
      "cell_type": "code",
      "metadata": {
        "id": "YN117S45S9oQ",
        "colab_type": "code",
        "outputId": "a3b0d7b6-df0f-46db-8935-c14f46acf8ac",
        "colab": {
          "base_uri": "https://localhost:8080/",
          "height": 35
        }
      },
      "source": [
        "print(p(2))"
      ],
      "execution_count": 0,
      "outputs": [
        {
          "output_type": "stream",
          "text": [
            "21\n"
          ],
          "name": "stdout"
        }
      ]
    },
    {
      "cell_type": "code",
      "metadata": {
        "id": "xKFeohu5TCks",
        "colab_type": "code",
        "outputId": "3f1a1a6f-87f2-40c8-9423-70934855e8bf",
        "colab": {
          "base_uri": "https://localhost:8080/",
          "height": 35
        }
      },
      "source": [
        "p.r"
      ],
      "execution_count": 0,
      "outputs": [
        {
          "output_type": "execute_result",
          "data": {
            "text/plain": [
              "array([-1.        , -0.33333333])"
            ]
          },
          "metadata": {
            "tags": []
          },
          "execution_count": 119
        }
      ]
    },
    {
      "cell_type": "code",
      "metadata": {
        "id": "wJ3ReQ8QTfSx",
        "colab_type": "code",
        "outputId": "29a65b6c-d1e1-4720-bb65-728fd3820df8",
        "colab": {
          "base_uri": "https://localhost:8080/",
          "height": 35
        }
      },
      "source": [
        "p.c"
      ],
      "execution_count": 0,
      "outputs": [
        {
          "output_type": "execute_result",
          "data": {
            "text/plain": [
              "array([3, 4, 1])"
            ]
          },
          "metadata": {
            "tags": []
          },
          "execution_count": 120
        }
      ]
    },
    {
      "cell_type": "code",
      "metadata": {
        "id": "RkKZD3c9TgFU",
        "colab_type": "code",
        "colab": {}
      },
      "source": [
        "x = np.array(data['Age'])\n",
        "\n",
        "y = np.array(data['Price'])\n",
        "\n",
        "z = np.polyfit(x, y, 1)"
      ],
      "execution_count": 0,
      "outputs": []
    },
    {
      "cell_type": "code",
      "metadata": {
        "id": "v1Z3ni7-DLEU",
        "colab_type": "code",
        "outputId": "5c6c7186-08fa-47ac-d841-0cab0a96a4c5",
        "colab": {
          "base_uri": "https://localhost:8080/",
          "height": 35
        }
      },
      "source": [
        "z"
      ],
      "execution_count": 0,
      "outputs": [
        {
          "output_type": "execute_result",
          "data": {
            "text/plain": [
              "array([ -170.69560407, 20237.10978664])"
            ]
          },
          "metadata": {
            "tags": []
          },
          "execution_count": 126
        }
      ]
    },
    {
      "cell_type": "code",
      "metadata": {
        "id": "K7xxT9lyDPsK",
        "colab_type": "code",
        "outputId": "0bfd574a-e6d2-4a7b-e8a4-fe300270838b",
        "colab": {
          "base_uri": "https://localhost:8080/",
          "height": 108
        }
      },
      "source": [
        "p = np.poly1d(z)\n",
        "print(p)\n",
        "print(p(30))\n",
        "\n",
        "print(p(10))\n",
        "\n",
        "print(p(20))\n"
      ],
      "execution_count": 0,
      "outputs": [
        {
          "output_type": "stream",
          "text": [
            " \n",
            "-170.7 x + 2.024e+04\n",
            "15116.241664604295\n",
            "18530.1537459599\n",
            "16823.197705282095\n"
          ],
          "name": "stdout"
        }
      ]
    },
    {
      "cell_type": "code",
      "metadata": {
        "id": "MA_9xC6CDmWj",
        "colab_type": "code",
        "outputId": "0aed3f39-ffa3-44f1-a7ab-4a3b3e224231",
        "colab": {
          "base_uri": "https://localhost:8080/",
          "height": 269
        }
      },
      "source": [
        "import matplotlib.pyplot as plt\n",
        "\n",
        "plt.plot(x, y,\".\",x, p(x),\"-\")\n",
        "\n",
        "plt.show()"
      ],
      "execution_count": 0,
      "outputs": [
        {
          "output_type": "display_data",
          "data": {
            "image/png": "[encoded data removed]",
            "text/plain": [
              "<Figure size 432x288 with 1 Axes>"
            ]
          },
          "metadata": {
            "tags": []
          }
        }
      ]
    },
    {
      "cell_type": "code",
      "metadata": {
        "id": "VL-fboKfDzXC",
        "colab_type": "code",
        "colab": {}
      },
      "source": [
        ""
      ],
      "execution_count": 0,
      "outputs": []
    }
  ]
}